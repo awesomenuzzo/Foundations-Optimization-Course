{
  "nbformat": 4,
  "nbformat_minor": 0,
  "metadata": {
    "colab": {
      "provenance": [],
      "include_colab_link": true
    },
    "kernelspec": {
      "name": "python3",
      "display_name": "Python 3"
    },
    "language_info": {
      "name": "python"
    }
  },
  "cells": [
    {
      "cell_type": "markdown",
      "metadata": {
        "id": "view-in-github",
        "colab_type": "text"
      },
      "source": [
        "<a href=\"https://colab.research.google.com/github/awesomenuzzo/Foundations-Optimization-Course/blob/Homework-2/Assignment_2.ipynb\" target=\"_parent\"><img src=\"https://colab.research.google.com/assets/colab-badge.svg\" alt=\"Open In Colab\"/></a>"
      ]
    },
    {
      "cell_type": "markdown",
      "metadata": {
        "id": "KuU3iEldYf1l"
      },
      "source": [
        "\n",
        "# Instructions\n",
        "1. Copy this notebook to your drive (using the \"Copy to Drive\" button above)\n",
        "2. Complete the \"TODO\" portions of this notebook\n",
        "3. Test your code using the provided tests (and your own additional tests if you'd like to of course!)\n",
        "4. Download the notebook in **.ipynb** format (File -> Download -> Download **.ipynb**)\n",
        "5. Submit the downloaded **.ipynb** file under the corresponding coding assignments on gradescope. (**IMPORTANT: We will NOT grade .py scripts.**)\n"
      ]
    },
    {
      "cell_type": "code",
      "metadata": {
        "id": "_goDQzMIfFKC"
      },
      "source": [
        "import networkx as nx\n",
        "import copy"
      ],
      "execution_count": null,
      "outputs": []
    },
    {
      "cell_type": "markdown",
      "metadata": {
        "id": "RzcdxsIJYs5l"
      },
      "source": [
        "# Finding the flow, not just its value (10 points)\n",
        "The code for the ford fulkerson algorithm from lecture returns the value of the maximum flow, but not the flow itself. Complete the two helper functions initialize_flow and update_flow to have the ford fulkerson implementation return the maximum flow."
      ]
    },
    {
      "cell_type": "code",
      "metadata": {
        "id": "oyTLqeChfLbl"
      },
      "source": [
        "def find_min_rc(graph, path):\n",
        "    '''\n",
        "    Finds the minimum remaining capacity along a path.\n",
        "\n",
        "    Args:\n",
        "    graph: a networkx graph\n",
        "    path: list of vertices along a path in the graph\n",
        "    '''\n",
        "\n",
        "    min_rc = float(\"inf\")\n",
        "    for i in range(1, len(path)):\n",
        "        node1=path[i-1]\n",
        "        node2=path[i]\n",
        "        rc = graph[node1][node2][\"capacity\"]\n",
        "        if rc < min_rc:\n",
        "            min_rc = rc\n",
        "    return min_rc"
      ],
      "execution_count": null,
      "outputs": []
    },
    {
      "cell_type": "code",
      "metadata": {
        "id": "ZGu5w04_zfHs"
      },
      "source": [
        "def update_res_graph(res_graph, path, flow):\n",
        "    '''\n",
        "    Update 'res_graph' after 'flow' amount of flow is sent through 'path'\n",
        "\n",
        "    Args:\n",
        "    res_graph: a networkx graph corresponding to the residual graph in ford\n",
        "      fulkerson algorithm.\n",
        "    path: list of vertices along a path in the graph\n",
        "    flow: amount of flow sent through path\n",
        "    '''\n",
        "    for i in range(1, len(path)):    #for each arc in the path\n",
        "        node1=path[i-1]\n",
        "        node2=path[i]\n",
        "\n",
        "        # calculate the new remaining capacity after pushing the flow through the path\n",
        "        res_graph[node1][node2][\"capacity\"] -= flow\n",
        "        # adding/updating reverse edge to the residual network\n",
        "        if res_graph.has_edge(node2, node1):\n",
        "            res_graph[node2][node1][\"capacity\"] += flow\n",
        "        else:\n",
        "            res_graph.add_edge(node2, node1, capacity = flow)\n",
        "\n",
        "        # if the remaining capacity on an edge reached 0, we can't push flow\n",
        "        # through this edge anymore. Thus, remove it from res_graph\n",
        "        if res_graph[node1][node2][\"capacity\"] == 0:\n",
        "            res_graph.remove_edge(node1,node2)"
      ],
      "execution_count": null,
      "outputs": []
    },
    {
      "cell_type": "code",
      "metadata": {
        "id": "iZVJF6VxVaUR"
      },
      "source": [
        "def initialize_flow(graph):\n",
        "    '''\n",
        "    Initialize the flow for Ford-Fulkerson algorithm on input graph by creating\n",
        "    a copy of the input graph and adding a \"flow\" attribute to each edge.\n",
        "\n",
        "    Args:\n",
        "      graph: the input networkx graph for the ford fulkerson algorithm.\n",
        "    Output:\n",
        "      initial_flow: a networkx graph with a \"flow\" attribute on each edge\n",
        "    '''\n",
        "    TODO: complete this method\n",
        "    return initial_flow"
      ],
      "execution_count": null,
      "outputs": []
    },
    {
      "cell_type": "code",
      "metadata": {
        "id": "pMc4ZmJGVPgM"
      },
      "source": [
        "def update_flow(current_flow, path, flow_val):\n",
        "    '''\n",
        "    Update the current_flow by adding min_rc amount of flow along path.\n",
        "    For each edge (u,v) in path, this method updates both the flow from\n",
        "    u to v and the flow from v to u.\n",
        "     Args:\n",
        "      current_flow: a networkx graph with a \"flow\" attribute on each edge\n",
        "      path: list of vertices along a path in the graph\n",
        "      flow_val: amount of flow sent through path\n",
        "    '''\n",
        "    TODO: complete this method\n",
        ""
      ],
      "execution_count": null,
      "outputs": []
    },
    {
      "cell_type": "code",
      "metadata": {
        "id": "5vm4L8tffOeK"
      },
      "source": [
        "def ford_fulkerson(graph, source, sink):\n",
        "    '''\n",
        "    Returns the maximum flow from source to sink/target.\n",
        "\n",
        "    Args:\n",
        "    graph: a networkx graph\n",
        "    source: the source node\n",
        "    sink: the target/sink node\n",
        "    '''\n",
        "    #work with a copy of the original graph\n",
        "    res_graph = copy.deepcopy(graph)\n",
        "    current_flow = initialize_flow(graph)\n",
        "    while True:\n",
        "\n",
        "        print('\\nPaths:')\n",
        "        paths=[]\n",
        "        #obtains all paths from source to sink\n",
        "        paths = list(nx.all_simple_paths(res_graph, source, sink))\n",
        "        print(paths)\n",
        "        #breaks the loop when there are no more paths from source to sink\n",
        "        if paths==[]:\n",
        "            print(\"No more path, terminating the algorithm.\")\n",
        "            break\n",
        "\n",
        "        # push flow into augmenting path\n",
        "        # first find the bottle neck\n",
        "        path = paths[0]\n",
        "        min_rc = find_min_rc(res_graph, path)\n",
        "        print(\"Can push\", min_rc, \"units of flow through path\", path)\n",
        "\n",
        "        update_res_graph(res_graph, path, min_rc)\n",
        "        # add the pushed flow\n",
        "        update_flow(current_flow, path, min_rc)\n",
        "        print('\\n----------------------------------------------------------------------------')\n",
        "    return current_flow"
      ],
      "execution_count": null,
      "outputs": []
    },
    {
      "cell_type": "code",
      "metadata": {
        "id": "1qyAI0eYfSJL"
      },
      "source": [
        "# simple example\n",
        "\n",
        "graph = nx.DiGraph()\n",
        "\n",
        "graph.add_edge('A', 'B', capacity = 3)\n",
        "graph.add_edge('A', 'C', capacity = 4)\n",
        "graph.add_edge('A', 'D', capacity = 2)\n",
        "graph.add_edge('B', 'D', capacity = 4)\n",
        "graph.add_edge('C', 'D', capacity = 5)\n",
        "\n",
        "final_flow = ford_fulkerson(graph, \"A\", \"D\")"
      ],
      "execution_count": null,
      "outputs": []
    },
    {
      "cell_type": "code",
      "metadata": {
        "id": "B0hNvYup5L8l"
      },
      "source": [
        "for (u,v) in final_flow.edges():\n",
        "  print('edge:', '(', u, ',', v, ')', \"has flow\", final_flow.edges[(u,v)]['flow'])"
      ],
      "execution_count": null,
      "outputs": []
    },
    {
      "cell_type": "markdown",
      "source": [
        "# Solving Question 2\n",
        "\n",
        "Use your completed Ford Fulkerson method to answer question 2 from the assignment, i.e., to determine whether it is still possible for Columbia to not be eliminated.\n",
        "\n"
      ],
      "metadata": {
        "id": "VBrs5glGfhzy"
      }
    },
    {
      "cell_type": "code",
      "source": [
        "G = nx.DiGraph()\n",
        "\n",
        "# Construct the graph below by adding the capacities to every edges\n",
        "\n",
        "## Source and Sink\n",
        "source = 's'\n",
        "sink = 't'\n",
        "\n",
        "## First layer\n",
        "G.add_edge(source, 'Har-Pri', #capacity)\n",
        "G.add_edge(source, 'Har-Cor', #capacity)\n",
        "G.add_edge(source, 'Har-Dar', #capacity)\n",
        "G.add_edge(source, 'Pri-Cor', #capacity)\n",
        "G.add_edge(source, 'Pri-Dar', #capacity)\n",
        "G.add_edge(source, 'Cor-Dar', #capacity)\n",
        "\n",
        "## Second Layer\n",
        "\n",
        "G.add_edge('Har-Pri', 'Har', #capacity)\n",
        "G.add_edge('Har-Pri', 'Pri', #capacity)\n",
        "G.add_edge('Har-Cor', 'Har', #capacity)\n",
        "G.add_edge('Har-Cor', 'Cor', #capacity)\n",
        "G.add_edge('Har-Dar', 'Har', #capacity)\n",
        "G.add_edge('Har-Dar', 'Dar', #capacity)\n",
        "G.add_edge('Pri-Cor', 'Pri', #capacity)\n",
        "G.add_edge('Pri-Cor', 'Cor', #capacity)\n",
        "G.add_edge('Pri-Dar', 'Pri', #capacity)\n",
        "G.add_edge('Pri-Dar', 'Dar', #capacity)\n",
        "G.add_edge('Cor-Dar', 'Cor', #capacity)\n",
        "G.add_edge('Cor-Dar', 'Dar', #capacity)\n",
        "\n",
        "## Sink Layer\n",
        "\n",
        "G.add_edge('Har', sink, #capacity)\n",
        "G.add_edge('Pri', sink, #capacity)\n",
        "G.add_edge('Cor', sink, #capacity)\n",
        "G.add_edge('Dar', sink, #capacity)"
      ],
      "metadata": {
        "id": "aErooFxWflKL",
        "colab": {
          "base_uri": "https://localhost:8080/",
          "height": 130
        },
        "outputId": "b2bf6873-c3a7-4b01-e716-d103329cd89d"
      },
      "execution_count": null,
      "outputs": [
        {
          "output_type": "error",
          "ename": "SyntaxError",
          "evalue": "ignored",
          "traceback": [
            "\u001b[0;36m  File \u001b[0;32m\"<ipython-input-1-5e257074a330>\"\u001b[0;36m, line \u001b[0;32m41\u001b[0m\n\u001b[0;31m    G.add_edge('Dar', sink, #capacity)\u001b[0m\n\u001b[0m                                      ^\u001b[0m\n\u001b[0;31mSyntaxError\u001b[0m\u001b[0;31m:\u001b[0m unexpected EOF while parsing\n"
          ]
        }
      ]
    },
    {
      "cell_type": "code",
      "source": [
        "final_flow = ford_fulkerson(G, source, sink)"
      ],
      "metadata": {
        "id": "nFlKWw_Kf0VI"
      },
      "execution_count": null,
      "outputs": []
    },
    {
      "cell_type": "code",
      "source": [
        "for (u,v) in final_flow.edges():\n",
        "  print('edge:', '(', u, ',', v, ')', \"has flow\", final_flow.edges[(u,v)]['flow'])"
      ],
      "metadata": {
        "id": "fViHJqmXf9ef"
      },
      "execution_count": null,
      "outputs": []
    }
  ]
}